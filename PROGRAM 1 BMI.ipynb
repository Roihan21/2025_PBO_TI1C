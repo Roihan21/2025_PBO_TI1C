{
  "nbformat": 4,
  "nbformat_minor": 0,
  "metadata": {
    "colab": {
      "provenance": [],
      "authorship_tag": "ABX9TyO2op1uGlZh+4F+gNWUY2ya",
      "include_colab_link": true
    },
    "kernelspec": {
      "name": "python3",
      "display_name": "Python 3"
    },
    "language_info": {
      "name": "python"
    }
  },
  "cells": [
    {
      "cell_type": "markdown",
      "metadata": {
        "id": "view-in-github",
        "colab_type": "text"
      },
      "source": [
        "<a href=\"https://colab.research.google.com/github/Roihan21/2025_PBO_TI1C/blob/main/PROGRAM%201%20BMI.ipynb\" target=\"_parent\"><img src=\"https://colab.research.google.com/assets/colab-badge.svg\" alt=\"Open In Colab\"/></a>"
      ]
    },
    {
      "cell_type": "code",
      "execution_count": 2,
      "metadata": {
        "colab": {
          "base_uri": "https://localhost:8080/"
        },
        "id": "1TD9TqiByzaG",
        "outputId": "682df264-8edc-45be-a703-cb47aee30f4b"
      },
      "outputs": [
        {
          "output_type": "stream",
          "name": "stdout",
          "text": [
            "===== Program Body Mass Index =====\n",
            "Silahkan Masukkan Berat Badan Anda (kg): 64\n",
            "Silahkan Masukkan Tinggi Badan Anda (m): 1.64\n",
            "\n",
            "Body Mass Index Anda: 23.80\n",
            "Kategori: Berat Badan Normal\n",
            "Apakah Anda Mau Keluar? (Y/N): y\n",
            "==== Terima Kasih ====\n"
          ]
        }
      ],
      "source": [
        "import os\n",
        "\n",
        "while True:\n",
        "    os.system(\"cls\")  # Membersihkan layar (untuk Windows)\n",
        "\n",
        "    print(\"===== Program Body Mass Index =====\")\n",
        "\n",
        "    # Meminta input berat dan tinggi dengan validasi\n",
        "    while True:\n",
        "        try:\n",
        "            berat = float(input(\"Silahkan Masukkan Berat Badan Anda (kg): \"))\n",
        "            tinggi = float(input(\"Silahkan Masukkan Tinggi Badan Anda (m): \"))\n",
        "            break\n",
        "        except ValueError:\n",
        "            print(\"Input Tidak Valid! Silahkan Masukkan Angka.\")\n",
        "\n",
        "    # Menghitung BMI\n",
        "    bmi = berat / (tinggi ** 2)\n",
        "    print(f\"\\nBody Mass Index Anda: {bmi:.2f}\")\n",
        "\n",
        "    # Menentukan kategori BMI\n",
        "    if bmi < 18.5:\n",
        "        print(\"Kategori: Berat Badan Kurang (Underweight)\")\n",
        "    elif 18.5 <= bmi < 25:\n",
        "        print(\"Kategori: Berat Badan Normal\")\n",
        "    elif 25 <= bmi < 30:\n",
        "        print(\"Kategori: Berat Badan Berlebih (Overweight)\")\n",
        "    else:\n",
        "        print(\"Kategori: Obesitas\")\n",
        "\n",
        "    # Opsi keluar dari program\n",
        "    keluar = input(\"Apakah Anda Mau Keluar? (Y/N): \").strip().lower()\n",
        "    if keluar == \"y\":\n",
        "        break\n",
        "\n",
        "print(\"==== Terima Kasih ====\")\n"
      ]
    }
  ]
}