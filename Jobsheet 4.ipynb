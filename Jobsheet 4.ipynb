{
  "nbformat": 4,
  "nbformat_minor": 0,
  "metadata": {
    "colab": {
      "provenance": [],
      "toc_visible": true,
      "authorship_tag": "ABX9TyMbwj0/U8JgI+R5avmGPu4L",
      "include_colab_link": true
    },
    "kernelspec": {
      "name": "python3",
      "display_name": "Python 3"
    },
    "language_info": {
      "name": "python"
    }
  },
  "cells": [
    {
      "cell_type": "markdown",
      "metadata": {
        "id": "view-in-github",
        "colab_type": "text"
      },
      "source": [
        "<a href=\"https://colab.research.google.com/github/Roihan21/2025_PBO_TI1C/blob/main/Jobsheet%204.ipynb\" target=\"_parent\"><img src=\"https://colab.research.google.com/assets/colab-badge.svg\" alt=\"Open In Colab\"/></a>"
      ]
    },
    {
      "cell_type": "code",
      "source": [],
      "metadata": {
        "id": "CZvtsYas0BQD"
      },
      "execution_count": null,
      "outputs": []
    },
    {
      "cell_type": "markdown",
      "source": [
        "PRAKTIKUM 1"
      ],
      "metadata": {
        "id": "7Arl2URX0A2s"
      }
    },
    {
      "cell_type": "code",
      "execution_count": 2,
      "metadata": {
        "colab": {
          "base_uri": "https://localhost:8080/"
        },
        "id": "SvpLlArkaL-V",
        "outputId": "1912cd29-5806-4048-b087-961fa55e5311"
      },
      "outputs": [
        {
          "output_type": "stream",
          "name": "stdout",
          "text": [
            "Mesin Kendaraan Tesla Model S dinyalakan.\n",
            "Mesin Kendaraan Tesla Model S dinyalakan.\n",
            "Merk mobil: Tesla Model S\n",
            "Mesin Kendaraan Tesla Model S dinyalakan.\n",
            "Mesin Kendaraan Tesla Model S dinyalakan.\n",
            "Merk mobil: (mobil_tesla.merk)\n"
          ]
        }
      ],
      "source": [
        "# kelas Induk\n",
        "class kendaraan:\n",
        "    def __init__(self,merk):\n",
        "      self.merk = merk\n",
        "    def mulai_mesin(self):\n",
        "        print(f\"Mesin Kendaraan {self.merk} dinyalakan.\")\n",
        "\n",
        "#Kelas Anak (mewarisi dari kendaraan)\n",
        "class mobil(kendaraan):\n",
        "    def __init__(self,merk,warna):\n",
        "      # memanggil __init__ kelas induk (akan dibahas di praktikum 2)\n",
        "      # untuk ssekarang, kita set merk secara manual\n",
        "      self.merk = merk # Mewarisi 'merk' tapi di-set ulang di sini\n",
        "      self.warna = warna # Attribut khusus mobil\n",
        "\n",
        "    def info_mobil(self):\n",
        "      print(f\"ini adalah mobil {self.merki} berwarna {self.warna}.\")\n",
        "# kelas Induk\n",
        "class kendaraan:\n",
        "    def __init__(self,merk):\n",
        "      self.merk = merk\n",
        "    def mulai_mesin(self):\n",
        "        print(f\"Mesin Kendaraan {self.merk} dinyalakan.\")\n",
        "\n",
        "#Kelas Anak (mewarisi dari kendaraan)\n",
        "class mobil(kendaraan):\n",
        "    def __init__(self,merk,warna):\n",
        "      # memanggil __init__ kelas induk (akan dibahas di praktikum 2)\n",
        "      # untuk ssekarang, kita set merk secara manual\n",
        "      self.merk = merk # Mewarisi 'merk' tapi di-set ulang di sini\n",
        "      self.warna = warna # Attribut khusus mobil\n",
        "\n",
        "    def info_mobil(self):\n",
        "      print(f\"ini adalah mobil {self.merk} berwarna {self.warna}.\")\n",
        "\n",
        "# ___ Kode Utama ___\n",
        "if __name__ == \"__main__\":\n",
        "  mobil_tesla = mobil(\"Tesla Model S\", \"Merah\")\n",
        "\n",
        "  #Memanggul metide dari kelas anak\n",
        "  mobil_tesla.mulai_mesin()\n",
        "\n",
        "  #memanggil metode yang diwarisi dari kelas induk\n",
        "  mobil_tesla.mulai_mesin()\n",
        "\n",
        "  # mengakses atribut yang diwarisi (dan di-set di anak)\n",
        "  print(f\"Merk mobil: {mobil_tesla.merk}\")\n",
        "  #Memanggul metide dari kelas anak\n",
        "  mobil_tesla.mulai_mesin()\n",
        "\n",
        "  #memanggil metode yang diwarisi dari kelas induk\n",
        "  mobil_tesla.mulai_mesin()\n",
        "\n",
        "  # mengakses atribut yang diwarisi (dan di-set di anak)\n",
        "  print(f\"Merk mobil: (mobil_tesla.merk)\")"
      ]
    },
    {
      "cell_type": "markdown",
      "source": [
        "PRAKTIKUM 2"
      ],
      "metadata": {
        "id": "7AWczEWn0FFD"
      }
    },
    {
      "cell_type": "code",
      "source": [
        "# Kelas Induk\n",
        "class person:\n",
        "  def __init__ (self, nama, usia):\n",
        "    print(f\"(Memanggil _init___Person untuk '{nama}')\")\n",
        "    self.nama = nama\n",
        "    self.usia = usia\n",
        "\n",
        "  def perkenalan_diri (self):\n",
        "    print(f\"Halo, nama saya {self.nama}, usia saya {self.usia}tahun.\")\n",
        "\n",
        "# Kelas Anak (Mewarisi dari Person)\n",
        "class student(person):\n",
        "  def __init__(self, nama, usia, student_id, jurusan):\n",
        "    print(f\"(Memanggil _init___ Student untuk'{nama}')\")\n",
        "          # Memanggil __init__ dari kelas person untuk inisialisasi nama dan usia\n",
        "    super().__init__(nama, usia)\n",
        "    # Menambahkan atribut khusus student\n",
        "    self.student_id = student_id\n",
        "    self.jurusan = jurusan\n",
        "    print(f\"(Inisialisasi atribut student selesau untuk '{nama}')\")\n",
        "\n",
        "  def info_akademik(self):\n",
        "    print(f\"ID mahasiswa: {self.student_id}\")\n",
        "    print(f\"Jurusan: {self.jurusan}\")\n",
        "\n",
        "    # Override perkenalkan_diri untuk menambah info student\n",
        "  def perkenalan_diri(self):\n",
        "    super().perkenalan_diri()\n",
        "    # panggil versi info student\n",
        "    print(f\"saya adalah mahasiswa dengan ID {self.student_id}, jurusan {self.jurusan}.\")\n",
        "\n",
        "# --- kode utama ---\n",
        "if __name__== \"__main__\":\n",
        "    # Membuat objek person\n",
        "    dosen = person(\"Pak Anton\", 45)\n",
        "    print(\"-\" * 20)\n",
        "    dosen.perkenalan_diri()\n",
        "    print(\"\\n\" + \"-\" * 30 + \"\\n\")\n",
        "\n",
        "    # Membuat objek student\n",
        "    mahasiswa = student(\"Roihan\", 20, \"MHS001\", \"Teknik Komputer\")\n",
        "    print(\"-\" * 20)\n",
        "    mahasiswa.perkenalan_diri()\n",
        "    print(\"-\" * 20)\n",
        "    mahasiswa.info_akademik()\n",
        "\n",
        "    #cek attribut yang diwarisi\n",
        "    print(f\"\\nUsia mahasiswa {mahasiswa.nama}: {mahasiswa.usia}\") # usia diwarisi dari person"
      ],
      "metadata": {
        "id": "oco9UPpleFOB",
        "colab": {
          "base_uri": "https://localhost:8080/"
        },
        "outputId": "efa117ad-a91e-4092-e3a5-c14171b468ba"
      },
      "execution_count": 3,
      "outputs": [
        {
          "output_type": "stream",
          "name": "stdout",
          "text": [
            "(Memanggil _init___Person untuk 'Pak Anton')\n",
            "--------------------\n",
            "Halo, nama saya Pak Anton, usia saya 45tahun.\n",
            "\n",
            "------------------------------\n",
            "\n",
            "(Memanggil _init___ Student untuk'Roihan')\n",
            "(Memanggil _init___Person untuk 'Roihan')\n",
            "(Inisialisasi atribut student selesau untuk 'Roihan')\n",
            "--------------------\n",
            "Halo, nama saya Roihan, usia saya 20tahun.\n",
            "saya adalah mahasiswa dengan ID MHS001, jurusan Teknik Komputer.\n",
            "--------------------\n",
            "ID mahasiswa: MHS001\n",
            "Jurusan: Teknik Komputer\n",
            "\n",
            "Usia mahasiswa Roihan: 20\n"
          ]
        }
      ]
    },
    {
      "cell_type": "markdown",
      "source": [
        "PRAKTIKUM 3"
      ],
      "metadata": {
        "id": "j9tdJrKv0Hd9"
      }
    },
    {
      "cell_type": "code",
      "source": [
        "# Kelas Induk 02:class Hewan:\n",
        "class Hewan:\n",
        "    def __init__(self, nama):\n",
        "      self.nama = nama\n",
        "    def bersuara(self):\n",
        "        print(f\"{self.nama} mengeluarkan suara generik.\")\n",
        "    def tampilkan_info(self):\n",
        "        print(f\"Ini adalah Hewan bernama {self.nama}.\")\n",
        "\n",
        "# kelas anak\n",
        "class Kucing(Hewan):\n",
        "    def __init__(self, nama, ras):\n",
        "        super().__init__(nama)\n",
        "        self.ras = ras\n",
        "\n",
        "    def bersuara(self):\n",
        "        print(f\"{self.nama} (kucing) mengeong: Meow!.\")\n",
        "\n",
        "        super().bersuara()\n",
        "\n",
        "    def tampilkan_info(self):\n",
        "        super().tampilkan_info()\n",
        "        print(f\"Ini adalah kucing ras {self.ras}.\")\n",
        "\n",
        "# ---KODE UTAMA---\n",
        "if __name__ == \"__main__\":\n",
        "    hewan_umum = Hewan(\"Makhluk\")\n",
        "    Kucing_persia = Kucing(\"Puspus\", \"Persia\")\n",
        "\n",
        "    print(\"Info Hewan umum:\")\n",
        "    hewan_umum.tampilkan_info()\n",
        "    hewan_umum.bersuara()\n",
        "    print(\"-\" * 20)\n",
        "\n",
        "    print(\"info kucing persia:\")\n",
        "    Kucing_persia.tampilkan_info()\n",
        "\n",
        "    Kucing_persia.bersuara()\n"
      ],
      "metadata": {
        "colab": {
          "base_uri": "https://localhost:8080/"
        },
        "id": "2KASuD3e0I4U",
        "outputId": "c08f2abe-fbd6-4444-9c41-06b137ee6f55"
      },
      "execution_count": 4,
      "outputs": [
        {
          "output_type": "stream",
          "name": "stdout",
          "text": [
            "Info Hewan umum:\n",
            "Ini adalah Hewan bernama Makhluk.\n",
            "Makhluk mengeluarkan suara generik.\n",
            "--------------------\n",
            "info kucing persia:\n",
            "Ini adalah Hewan bernama Puspus.\n",
            "Ini adalah kucing ras Persia.\n",
            "Puspus (kucing) mengeong: Meow!.\n",
            "Puspus mengeluarkan suara generik.\n"
          ]
        }
      ]
    },
    {
      "cell_type": "markdown",
      "source": [
        "PRAKTIKUM 4"
      ],
      "metadata": {
        "id": "qdjXhFfl7eGc"
      }
    },
    {
      "cell_type": "code",
      "source": [
        "# Kelas Induk Level 1\n",
        "class Organisme:\n",
        "  def __init__(self, nama):\n",
        "    self.nama =nama\n",
        "    print(f\"Organisme'{self.nama}'diciptakan.\")\n",
        "\n",
        "  def bernapas(self):\n",
        "    print(f\"{self.nama} sedang bernapas.\")\n",
        "\n",
        "# Kelas Anak level 1\n",
        "class Hewan(Organisme):\n",
        "  def __init__(self, nama, jenis_makanan):\n",
        "    super().__init__(nama)\n",
        "    self.jenis_makanan = jenis_makanan\n",
        "    print(f\"Hewan '{self.nama}' ({self.jenis_makanan}).\")\n",
        "\n",
        "  def bergerak(self):\n",
        "    print(f\"Hewan '{self.nama}' sedang bergerak.\")\n",
        "\n",
        "#kelas anak level 2\n",
        "class mamalia(Hewan):\n",
        "  def __init__(self, nama, jenis_makanan, jumlah_kaki):\n",
        "    super().__init__(nama, jenis_makanan)\n",
        "    self.jumlah_kaki = jumlah_kaki\n",
        "    print(f\"Mamalia '{self.nama}' ({self.jumlah_kaki} kaki).\")\n",
        "\n",
        "  def menyusui(self):\n",
        "    print(f\"{self.nama} sedang menyusui.\")\n",
        "\n",
        "\n",
        "# kode utama\n",
        "if __name__==\"__main__\":\n",
        "               kucing = mamalia(\"kucing persia\", \"karnivora\", 4)\n",
        "               print(\"-\" * 20)\n",
        "\n",
        "               kucing.menyusui()\n",
        "\n",
        "               kucing.bergerak()\n",
        "               print(f\"Jenis makanan: {kucing.jenis_makanan}\")\n",
        "\n",
        "               kucing.bernapas()\n",
        "               print(f\"Nama organisme: {kucing.nama}\")\n",
        "\n"
      ],
      "metadata": {
        "colab": {
          "base_uri": "https://localhost:8080/"
        },
        "id": "F3r4xDSp7gux",
        "outputId": "f8087c46-5209-41bd-edad-751c8230d018"
      },
      "execution_count": 5,
      "outputs": [
        {
          "output_type": "stream",
          "name": "stdout",
          "text": [
            "Organisme'kucing persia'diciptakan.\n",
            "Hewan 'kucing persia' (karnivora).\n",
            "Mamalia 'kucing persia' (4 kaki).\n",
            "--------------------\n",
            "kucing persia sedang menyusui.\n",
            "Hewan 'kucing persia' sedang bergerak.\n",
            "Jenis makanan: karnivora\n",
            "kucing persia sedang bernapas.\n",
            "Nama organisme: kucing persia\n"
          ]
        }
      ]
    },
    {
      "cell_type": "markdown",
      "source": [
        "PRAKTIKUM 5"
      ],
      "metadata": {
        "id": "qiefW_3j7hIf"
      }
    },
    {
      "cell_type": "code",
      "source": [
        "import locale\n",
        "\n",
        "# Set locale ke Indonesia untuk format mata uang\n",
        "try:\n",
        "    locale.setlocale(locale.LC_ALL, 'id_ID.UTF-8')\n",
        "except locale.Error:\n",
        "    try:\n",
        "        locale.setlocale(locale.LC_ALL, 'id_ID')\n",
        "    except locale.Error:\n",
        "        print(\"Locale id_ID.UTF-8 dan id_ID tidak tersedia, menggunakan locale default.\")\n",
        "\n",
        "def format_rupiah(angka):\n",
        "    return f\"Rp. {angka:,.0f}\".replace(\",\", \".\")\n",
        "\n",
        "\n",
        "class Pegawai:\n",
        "    def __init__(self, nama, id_pegawai, gaji_pokok):\n",
        "        self.nama = nama\n",
        "        self.id_pegawai = id_pegawai\n",
        "        self.gaji_pokok = gaji_pokok\n",
        "\n",
        "    def hitung_gaji(self):\n",
        "        return self.gaji_pokok\n",
        "\n",
        "    def tampilkan_info(self):\n",
        "        print(f\"ID: {self.id_pegawai}, Nama: {self.nama}\")\n",
        "        print(f\"Gaji Pokok: {format_rupiah(self.gaji_pokok)}\")\n",
        "\n",
        "class Manager(Pegawai):\n",
        "    def __init__(self, nama, id_pegawai, gaji_pokok, tunjangan_jabatan):\n",
        "        super().__init__(nama, id_pegawai, gaji_pokok)\n",
        "        self.tunjangan_jabatan = tunjangan_jabatan\n",
        "\n",
        "    def hitung_gaji(self):\n",
        "        return super().hitung_gaji() + self.tunjangan_jabatan\n",
        "\n",
        "    def tampilkan_info(self):\n",
        "        print(\"--- Info Manager ---\")\n",
        "        super().tampilkan_info()\n",
        "        print(f\"Tunjangan Jabatan: {format_rupiah(self.tunjangan_jabatan)}\")\n",
        "        print(f\"Total Gaji: {format_rupiah(self.hitung_gaji())}\")\n",
        "\n",
        "class StafTeknis(Pegawai):\n",
        "    def __init__(self, nama, id_pegawai, gaji_pokok, keahlian, bonus_keahlian):\n",
        "        super().__init__(nama, id_pegawai, gaji_pokok)\n",
        "        self.keahlian = keahlian\n",
        "        self.bonus_keahlian = bonus_keahlian\n",
        "\n",
        "    def hitung_gaji(self):\n",
        "        return super().hitung_gaji() + self.bonus_keahlian\n",
        "\n",
        "    def tampilkan_info(self):\n",
        "        print(\"--- Info Staf Teknis ---\")\n",
        "        super().tampilkan_info()\n",
        "        print(f\"Keahlian: {self.keahlian}\")\n",
        "        print(f\"Bonus Keahlian: {format_rupiah(self.bonus_keahlian)}\")\n",
        "        print(f\"Total Gaji: {format_rupiah(self.hitung_gaji())}\")\n",
        "\n",
        "# --- Kode Utama ---\n",
        "if __name__ == \"__main__\":\n",
        "    manager1 = Manager(\"Budi Santoso\", \"M001\", 10000000, 5000000)\n",
        "    staf1 = StafTeknis(\"Citra Lestari\", \"S001\", 7000000, \"Python Programming\", 1500000)\n",
        "    pegawai_baru = Pegawai(\"Rian\", \"P005\", 5000000)\n",
        "\n",
        "    print(\"Menampilkan Informasi Pegawai:\")\n",
        "    manager1.tampilkan_info()\n",
        "    print(\"-\" * 30)\n",
        "    staf1.tampilkan_info()\n",
        "    print(\"-\" * 30)\n",
        "\n",
        "    print(\"--- Info Pegawai Baru ---\")\n",
        "    pegawai_baru.tampilkan_info()\n",
        "    print(f\"Total Gaji: {format_rupiah(pegawai_baru.hitung_gaji())}\")\n",
        "    print(\"-\" * 30)\n"
      ],
      "metadata": {
        "colab": {
          "base_uri": "https://localhost:8080/"
        },
        "id": "czbfunwl7iy_",
        "outputId": "743479db-8815-4076-d5f0-c63a51ba0105"
      },
      "execution_count": 11,
      "outputs": [
        {
          "output_type": "stream",
          "name": "stdout",
          "text": [
            "Locale id_ID.UTF-8 dan id_ID tidak tersedia, menggunakan locale default.\n",
            "Menampilkan Informasi Pegawai:\n",
            "--- Info Manager ---\n",
            "ID: M001, Nama: Budi Santoso\n",
            "Gaji Pokok: Rp. 10.000.000\n",
            "Tunjangan Jabatan: Rp. 5.000.000\n",
            "Total Gaji: Rp. 15.000.000\n",
            "------------------------------\n",
            "--- Info Staf Teknis ---\n",
            "ID: S001, Nama: Citra Lestari\n",
            "Gaji Pokok: Rp. 7.000.000\n",
            "Keahlian: Python Programming\n",
            "Bonus Keahlian: Rp. 1.500.000\n",
            "Total Gaji: Rp. 8.500.000\n",
            "------------------------------\n",
            "--- Info Pegawai Baru ---\n",
            "ID: P005, Nama: Rian\n",
            "Gaji Pokok: Rp. 5.000.000\n",
            "Total Gaji: Rp. 5.000.000\n",
            "------------------------------\n"
          ]
        }
      ]
    },
    {
      "cell_type": "markdown",
      "source": [
        "PRAKTIKUM 6"
      ],
      "metadata": {
        "id": "n5N_q2qe7jNQ"
      }
    },
    {
      "cell_type": "code",
      "source": [],
      "metadata": {
        "colab": {
          "base_uri": "https://localhost:8080/",
          "height": 111
        },
        "id": "dau7a_FwTdSY",
        "outputId": "83ddb56b-0033-4397-bdad-241587f4a4bf"
      },
      "execution_count": 15,
      "outputs": [
        {
          "output_type": "error",
          "ename": "IndentationError",
          "evalue": "unindent does not match any outer indentation level (<tokenize>, line 70)",
          "traceback": [
            "\u001b[0;36m  File \u001b[0;32m\"<tokenize>\"\u001b[0;36m, line \u001b[0;32m70\u001b[0m\n\u001b[0;31m    elif isinstance(bentuk, segitiga):\u001b[0m\n\u001b[0m    ^\u001b[0m\n\u001b[0;31mIndentationError\u001b[0m\u001b[0;31m:\u001b[0m unindent does not match any outer indentation level\n"
          ]
        }
      ]
    }
  ]
}