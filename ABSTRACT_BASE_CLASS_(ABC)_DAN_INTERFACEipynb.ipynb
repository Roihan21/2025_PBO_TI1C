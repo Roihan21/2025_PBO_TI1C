{
  "nbformat": 4,
  "nbformat_minor": 0,
  "metadata": {
    "colab": {
      "provenance": [],
      "authorship_tag": "ABX9TyOeUZ+cMRkpJxXbfUy0SP6h",
      "include_colab_link": true
    },
    "kernelspec": {
      "name": "python3",
      "display_name": "Python 3"
    },
    "language_info": {
      "name": "python"
    }
  },
  "cells": [
    {
      "cell_type": "markdown",
      "metadata": {
        "id": "view-in-github",
        "colab_type": "text"
      },
      "source": [
        "<a href=\"https://colab.research.google.com/github/Roihan21/2025_PBO_TI1C/blob/main/ABSTRACT_BASE_CLASS_(ABC)_DAN_INTERFACEipynb.ipynb\" target=\"_parent\"><img src=\"https://colab.research.google.com/assets/colab-badge.svg\" alt=\"Open In Colab\"/></a>"
      ]
    },
    {
      "cell_type": "markdown",
      "source": [
        "Praktikum 1"
      ],
      "metadata": {
        "id": "_MUxLZYvzNKZ"
      }
    },
    {
      "cell_type": "code",
      "execution_count": null,
      "metadata": {
        "colab": {
          "base_uri": "https://localhost:8080/"
        },
        "id": "dTzj35qpw5AQ",
        "outputId": "d41e2a50-cf35-44e8-ce4f-b1cd523fe26a"
      },
      "outputs": [
        {
          "output_type": "stream",
          "name": "stdout",
          "text": [
            "definisi kelas abstrak'kendaraanAbstrak' selesai\n",
            "\n",
            "contoh definisi kelas anak 'mobil' selesai.\n",
            "Inisialisasi dari kendaraanAbstrak dengan merek :BMW\n",
            "mesin mobil BMW dinyalakan\n",
            "merk kendaraan ini adalah:BMW\n",
            "mesin mobil BMW dimatikan\n"
          ]
        }
      ],
      "source": [
        "#import komponen yang di perlukan dari modul abc\n",
        "from abc import ABC, abstractmethod\n",
        "\n",
        "#1. definisikan kelas abstark\n",
        "#kelas ini mewarisi dari ABC untuk menandakan bahwa dia adalah\n",
        "#Abstrack base class\n",
        "\n",
        "class kendaraanAbstrak(ABC):\n",
        "  def __init__(self, merk):\n",
        "    self.merk = merk\n",
        "    print(f\"Inisialisasi dari kendaraanAbstrak dengan merek :{self.merk}\")\n",
        "\n",
        "#methode konkret (tidak abstrak). metode ini sudah di implementasi dan sudah di warisi langsung\n",
        "\n",
        "  def info_merk(self):\n",
        "    print(f\"merk kendaraan ini adalah:{self.merk}\")\n",
        "\n",
        "#2. definisi metode abstrak\n",
        "#dekorator @abstrakmethod menandakan bahwa ini wajib\n",
        "#di implementasikan (override) oleh subclass konkret\n",
        "  def start_mesin(self):\n",
        "#kode di dalam methode ini adalah implementasinya\n",
        "\n",
        "    print(f\"Mesin mobil{self.merk} menyala\")\n",
        "\n",
        "#kelas mobil ini akan menjadi abstrak\n",
        "  def stop_mesin(self):\n",
        "    print(f\"Mesin mobil{self.merk} dimatikan\")\n",
        "\n",
        "# kode utama (hanya definisi belum ada instasiasi kelas abstrak)\n",
        "\n",
        "if __name__==\"__main__\":\n",
        "    print(\"definisi kelas abstrak'kendaraanAbstrak' selesai\")\n",
        "#contoh definisi kelas anak(konkret)\n",
        "#kelas ini mewarisi dari kendaraan abstark\n",
        "class mobil(kendaraanAbstrak):\n",
        "#implementasi metode abstrak strat mesin\n",
        "  def start_mesin(self):\n",
        "      print(f\"mesin mobil {self.merk} dinyalakan\") #mengecek mobil dinyalakan\n",
        "\n",
        "#implementasi abstrak stop mesin\n",
        "#jika salah satu abstrak tidak di implementasikan\n",
        "  def stop_mesin(self):\n",
        "      print(f\"mesin mobil {self.merk} dimatikan\") #mencetak status dimatikan\n",
        "\n",
        "print(\"\\ncontoh definisi kelas anak 'mobil' selesai.\")\n",
        "\n",
        "#membuat objek dari kelas anak(konkret) diperbolehkan\n",
        "\n",
        "mobil_contoh = mobil(\"BMW\")\n",
        "\n",
        "#memanggil metode yang diberikan dari kelas anak\n",
        "mobil_contoh.start_mesin()\n",
        "\n",
        "\n",
        "#memanggil metodek konkret yang di ambil dari kelas abstrak\n",
        "mobil_contoh.info_merk()\n",
        "#memanggil metode lain yang di implementasikan di kelas anak\n",
        "mobil_contoh.stop_mesin()\n"
      ]
    },
    {
      "cell_type": "markdown",
      "source": [
        "Praktikum 2"
      ],
      "metadata": {
        "id": "flf5BOhG8oZD"
      }
    },
    {
      "cell_type": "code",
      "source": [
        "from abc import ABC, abstractmethod\n",
        "\n",
        "#definisi kelas abstrak\n",
        "class mediaAbstrak(ABC):\n",
        "  def __init__(self,judul):\n",
        "    self.judul = judul\n",
        "    print(f\"inisialisasi media Abstrak dengan judul : {self,judul}\")\n",
        "\n",
        "  @abstractmethod\n",
        "  def play(self):\n",
        "    pass\n",
        "\n",
        "  @abstractmethod\n",
        "  def stop(self):\n",
        "    pass\n",
        "\n",
        "  #kode utama\n",
        "if __name__==\"__main__\":\n",
        "    print(\"mencoba membuat objek dari kelas abstrak media abstrak...\")\n",
        "\n",
        "    #block try-except untuk menangkap error yang di harapkan\n",
        "    try:\n",
        "        #baris ini akan menyebabkan type error karena media abstrak\n",
        "        #memiliki metode abstrak (play and stop) yang belum diimplementasikan\n",
        "        media = mediaAbstrak(\"konten abstrak\")\n",
        "        #kode dibawah ini tidak akan di jalankan jika error terjadi\n",
        "        print(f\"objek seharusnya tidak dibuat(seharusnya tidak terjadi)\")\n",
        "        media.play()\n",
        "\n",
        "    except TypeError as e:\n",
        "        #menangkap dan menampilkan error TypeError\n",
        "        print(f\"\\nGagal membuat objek !\")\n",
        "        print(f\"error yang muncul (sesuai harapan): {e}\")\n",
        "        print(f\"\\nini membuktikan bahwa kelas abstrak tidak dapat di implementasi\")\n",
        "        print(f\"jika masih memiliki metode abstrak yang belum di implementasi\")"
      ],
      "metadata": {
        "colab": {
          "base_uri": "https://localhost:8080/"
        },
        "id": "3mvQEl-Y5o11",
        "outputId": "1f36cb03-0881-4dbe-e0b1-85e5ad69a60d"
      },
      "execution_count": null,
      "outputs": [
        {
          "output_type": "stream",
          "name": "stdout",
          "text": [
            "mencoba membuat objek dari kelas abstrak media abstrak...\n",
            "\n",
            "Gagal membuat objek !\n",
            "error yang muncul (sesuai harapan): Can't instantiate abstract class mediaAbstrak with abstract methods play, stop\n",
            "\n",
            "ini membuktikan bahwa kelas abstrak tidak dapat di implementasi\n",
            "jika masih memiliki metode abstrak yang belum di implementasi\n"
          ]
        }
      ]
    },
    {
      "cell_type": "markdown",
      "source": [
        "Praktikum 3"
      ],
      "metadata": {
        "id": "rTwUmlQpTBJm"
      }
    },
    {
      "cell_type": "code",
      "source": [
        "from abc import ABC, abstractmethod\n",
        "import locale\n",
        "import random\n",
        "\n",
        "try:\n",
        "    # Coba set locale Indonesia\n",
        "    locale.setlocale(locale.LC_ALL, 'id_ID.UTF-8')\n",
        "except locale.Error:\n",
        "    print(\"Locale id_ID.UTF-8 tidak tersedia, mencoba en_US.UTF-8.\")\n",
        "    try:\n",
        "        # Jika locale Indonesia tidak tersedia, coba locale US\n",
        "        locale.setlocale(locale.LC_ALL, 'en_US.UTF-8')\n",
        "    except locale.Error:\n",
        "        # Jika locale US juga tidak tersedia, gunakan locale default dan beri peringatan\n",
        "        # currency() akan gagal di sini, tapi setidaknya kita memberitahu user.\n",
        "        # Atau bisa juga di handle agar format_rupiah tidak dipanggil jika locale 'C'\n",
        "        print(\"Locale en_US.UTF-8 juga tidak tersedia. Menggunakan locale default 'C'.\")\n",
        "        print(\"Formatting mata uang mungkin tidak berfungsi.\")\n",
        "\n",
        "\n",
        "def format_rupiah(angka):\n",
        "    # Tambahkan pemeriksaan locale sebelum memanggil currency()\n",
        "    current_locale = locale.getlocale(locale.LC_CTYPE)[0] # Ctype is often representative of the overall locale\n",
        "    if current_locale == 'C':\n",
        "        # Jika locale masih 'C', kembalikan string sederhana atau sesuaikan penanganan\n",
        "        # agar program tidak crash, tapi mungkin tidak terformat sesuai harapan\n",
        "        return f\"Rp {angka:,}\".replace(',', '.') # Format sederhana tanpa locale.currency\n",
        "    try:\n",
        "        # Jika locale bukan 'C', coba format dengan locale.currency()\n",
        "        return locale.currency(angka, grouping=True, symbol='Rp ')\n",
        "    except ValueError:\n",
        "        # Tangani kasus jika meskipun locale bukan 'C' tapi currency() tetap gagal\n",
        "        # Ini bisa terjadi pada beberapa sistem meskipun jarang\n",
        "        print(f\"Peringatan: Gagal memformat {angka} dengan locale.currency().\")\n",
        "        return f\"Rp {angka:,}\".replace(',', '.') # Fallback format sederhana\n",
        "\n",
        "\n",
        "# Kelas Abstrak\n",
        "class AlatPembayaranAbstrak(ABC):\n",
        "    def __init__(self, nama_metode):\n",
        "        self.nama_metode = nama_metode\n",
        "        print(f\"Inisialisasi alat pembayaran: {self.nama_metode}\")\n",
        "\n",
        "    def info(self):\n",
        "        print(f\"Metode Pembayaran: {self.nama_metode}\")\n",
        "\n",
        "    @abstractmethod\n",
        "    def proses_pembayaran(self, jumlah):\n",
        "        \"\"\"\n",
        "        Metode abstrak untuk memproses pembayaran sejumlah 'jumlah'.\n",
        "        Harus diimplementasikan oleh subclass.\n",
        "        Harus mengembalikan True jika berhasil, False jika gagal.\n",
        "        \"\"\"\n",
        "        pass\n",
        "\n",
        "\n",
        "\n",
        "\n",
        "class KartuKredit(AlatPembayaranAbstrak):\n",
        "    def __init__(self, nomor_kartu, nama_pemilik):\n",
        "        super().__init__(\"Kartu Kredit\")\n",
        "        self.nomor_kartu = nomor_kartu[-4:]  # Simpan 4 digit terakhir saja\n",
        "        self.nama_pemilik = nama_pemilik\n",
        "        print(f\" -> Kartu Kredit ************{self.nomor_kartu} ({self.nama_pemilik}) siap.\")\n",
        "\n",
        "    def proses_pembayaran(self, jumlah):\n",
        "        print(f\" Memproses pembayaran {format_rupiah(jumlah)} via Kartu Kredit ************{self.nomor_kartu}...\")\n",
        "        berhasil = random.choice([True, False])\n",
        "        if berhasil:\n",
        "            print(\" Pembayaran Kartu Kredit Berhasil.\")\n",
        "            return True\n",
        "        else:\n",
        "            print(\" Pembayaran Kartu Kredit Gagal (Limit tidak cukup/Error).\")\n",
        "            return False\n",
        "\n",
        "class DompetDigital(AlatPembayaranAbstrak):\n",
        "    def __init__(self, nomor_telepon, nama_provider):\n",
        "        super().__init__(f\"Dompet Digital ({nama_provider})\")\n",
        "        self.nomor_telepon = nomor_telepon\n",
        "        self._saldo = random.randint(50000, 500000)  # Saldo awal acak\n",
        "        print(f\" -> Dompet Digital {self.nomor_telepon} siap (Saldo: {format_rupiah(self._saldo)}).\")\n",
        "\n",
        "    def proses_pembayaran(self, jumlah):\n",
        "        print(f\" Memproses pembayaran {format_rupiah(jumlah)} via Dompet Digital {self.nomor_telepon}...\")\n",
        "        if jumlah <= self._saldo:\n",
        "            self._saldo -= jumlah\n",
        "            print(\" Pembayaran Dompet Digital Berhasil.\")\n",
        "            print(f\" Saldo tersisa: {format_rupiah(self._saldo)}\")\n",
        "            return True\n",
        "        else:\n",
        "            print(\" Pembayaran Dompet Digital Gagal (Saldo tidak mencukupi).\")\n",
        "            print(f\" Saldo saat ini: {format_rupiah(self._saldo)}\")\n",
        "            return False\n",
        "\n",
        "# --- Kode Utama ---\n",
        "if __name__ == \"__main__\":\n",
        "    print(\"\\nMembuat Objek Alat Pembayaran...\")\n",
        "    kartu_bca = KartuKredit(\"1234-5678-9012-3456\", \"Budi Cahyono\")\n",
        "    gopay = DompetDigital(\"08123456789\", \"GoPay\")\n",
        "\n",
        "    print(\"\\nMelakukan Pembayaran:\")\n",
        "\n",
        "    print(\"\\nMencoba bayar dengan Kartu Kredit:\")\n",
        "    kartu_bca.info()\n",
        "    status_kk = kartu_bca.proses_pembayaran(150000)\n",
        "    print(f\" Status Transaksi KK: {'Sukses' if status_kk else 'Gagal'}\")\n",
        "\n",
        "    print(\"\\nMencoba bayar dengan GoPay (Jumlah Kecil):\")\n",
        "    gopay.info()\n",
        "    status_gopay1 = gopay.proses_pembayaran(75000)\n",
        "    print(f\" Status Transaksi GoPay 1: {'Sukses' if status_gopay1 else 'Gagal'}\")\n",
        "\n",
        "    print(\"\\nMencoba bayar dengan GoPay (Jumlah Besar):\")\n",
        "    gopay.info()\n",
        "    status_gopay2 = gopay.proses_pembayaran(1000000)\n",
        "    print(f\" Status Transaksi GoPay 2: {'Sukses' if status_gopay2 else 'Gagal'}\")"
      ],
      "metadata": {
        "id": "8wR-Nthp_kn_",
        "outputId": "7d5a3dfe-1ab2-4137-a32e-6e7b728f319c",
        "colab": {
          "base_uri": "https://localhost:8080/"
        }
      },
      "execution_count": null,
      "outputs": [
        {
          "output_type": "stream",
          "name": "stdout",
          "text": [
            "Locale id_ID.UTF-8 tidak tersedia, mencoba en_US.UTF-8.\n",
            "\n",
            "Membuat Objek Alat Pembayaran...\n",
            "Inisialisasi alat pembayaran: Kartu Kredit\n",
            " -> Kartu Kredit ************3456 (Budi Cahyono) siap.\n",
            "Inisialisasi alat pembayaran: Dompet Digital (GoPay)\n",
            " -> Dompet Digital 08123456789 siap (Saldo: $116,046.00).\n",
            "\n",
            "Melakukan Pembayaran:\n",
            "\n",
            "Mencoba bayar dengan Kartu Kredit:\n",
            "Metode Pembayaran: Kartu Kredit\n",
            " Memproses pembayaran $150,000.00 via Kartu Kredit ************3456...\n",
            " Pembayaran Kartu Kredit Berhasil.\n",
            " Status Transaksi KK: Sukses\n",
            "\n",
            "Mencoba bayar dengan GoPay (Jumlah Kecil):\n",
            "Metode Pembayaran: Dompet Digital (GoPay)\n",
            " Memproses pembayaran $75,000.00 via Dompet Digital 08123456789...\n",
            " Pembayaran Dompet Digital Berhasil.\n",
            " Saldo tersisa: $41,046.00\n",
            " Status Transaksi GoPay 1: Sukses\n",
            "\n",
            "Mencoba bayar dengan GoPay (Jumlah Besar):\n",
            "Metode Pembayaran: Dompet Digital (GoPay)\n",
            " Memproses pembayaran $1,000,000.00 via Dompet Digital 08123456789...\n",
            " Pembayaran Dompet Digital Gagal (Saldo tidak mencukupi).\n",
            " Saldo saat ini: $41,046.00\n",
            " Status Transaksi GoPay 2: Gagal\n"
          ]
        }
      ]
    },
    {
      "cell_type": "markdown",
      "source": [
        "praktikum 4"
      ],
      "metadata": {
        "id": "kf_OK8peD6Ei"
      }
    },
    {
      "cell_type": "code",
      "source": [
        "from abc import ABC, abstractmethod\n",
        "import time\n",
        "\n",
        "#kelas abstreact\n",
        "class documentabstract(ABC):\n",
        "  def __init__(self, nama_file):\n",
        "    self.nama_file = nama_file\n",
        "    print(f\"inisialisasi document{self.nama_file}.\")\n",
        "\n",
        "  def info_file(self):\n",
        "    print(f\"nama file{self.nama_file}\")\n",
        "\n",
        "  @abstractmethod\n",
        "  def cetak(self):\n",
        "    pass\n",
        "  @abstractmethod\n",
        "  def simpan(self):\n",
        "    pass\n",
        "\n",
        "#subclass konkret\n",
        "\n",
        "class dokumenteks(documentabstract):\n",
        "  def __init__(self, nama_file, isi_teks):\n",
        "    super().__init__(nama_file)\n",
        "    self.isi_teks = isi_teks\n",
        "    print(f\"-->Tipe : dokumen teks\")\n",
        "\n",
        "  def cetak(self):\n",
        "    print(f\"mencetak dokumen teks '{self.nama_file}'\")\n",
        "    print(self.isi_teks)\n",
        "    print(\"=\"*15)\n",
        "  def simpan(self):\n",
        "    print(f\"menympan dokumen teks '{self.nama_file}' ke disk\")\n",
        "\n",
        "#logika penyimpanan file teks\n",
        "  time.sleep(0.2) #simulasi\n",
        "  print(\"--> berhasil menyimpan\")\n",
        "\n",
        "\n",
        "#subclass konkret ke dua\n",
        "\n",
        "class spreadsheet(documentabstract):\n",
        "  def __init__(self,nama_file,jumlah_baris,jumlah_kolom):\n",
        "    super().__init__(nama_file)\n",
        "    self.baris= jumlah_baris\n",
        "    self.kolom = jumlah_kolom\n",
        "    print(f\"-->tipe: spreadsheet\")\n",
        "\n",
        "  def cetak(self):\n",
        "    print(f\"mencetak spreadsheet '{self.nama_file}' baris x{self.baris}, {self.kolom} kolom \")\n",
        "\n",
        "  def simpan(self):\n",
        "    print(f\"menyimpan spreadsheet '{self.nama_file}' ke format .xlsr...\")\n",
        "\n",
        "#logika penyimpanan file spreadsheet\n",
        "    time.sleep(0.3) #simulasi\n",
        "    print(\"-->berhasil menyimpan\")\n",
        "\n",
        "#fungsi polimorfik\n",
        "def proses_dokumen(daftar_dokumen):\n",
        "  print(\"\\n==========MEMPROSES SEMUA DOKUMEN==========\")\n",
        "  for doc in daftar_dokumen:\n",
        "    print(f\"\\n========MEMPROSES {type(doc).__name__}:{doc.nama_file} - --\")\n",
        "    try:\n",
        "      #memanggil metode secara polimorfik\n",
        "      doc.cetak()\n",
        "      doc.simpan()\n",
        "    except Exception as e:\n",
        "      print(f\"Error dalam memproses  {doc.nama_file} {e}:\")\n",
        "\n",
        "  print(f\"\\n=======SELESAI MEMPROSES DOKUMEN========\")\n",
        "\n",
        "\n",
        "#kode utama\n",
        "if __name__ == \"__main__\":\n",
        "  print(\"membuat dokumen\")\n",
        "  dok1 = dokumenteks(\"laporan.teks\", \"ini adalah laporan singkat\")\n",
        "  dok2 = spreadsheet(\"data_penjualan.xlrs\", 200, 15)\n",
        "  dok3 = dokumenteks(\"catatan_rapat.txt\", \"poin penting:\\n- Bahas budget\\n- tentukan timeline\")\n",
        "\n",
        "  koleksi_dokumen =[dok1, dok2, dok3]\n",
        "\n",
        "  proses_dokumen(koleksi_dokumen)\n",
        "\n",
        "#Contoh memanggil metode spesifik (jika perlu)\n",
        "#print(f\"\\nIsi teks dok1: \\n{dok1.isi_teks}\")\n",
        "\n",
        "\n",
        "\n",
        "\n",
        "\n"
      ],
      "metadata": {
        "id": "F0RfqgL1VwMB",
        "outputId": "847e970e-b403-4283-86f8-b845cd665f61",
        "colab": {
          "base_uri": "https://localhost:8080/"
        }
      },
      "execution_count": 13,
      "outputs": [
        {
          "output_type": "stream",
          "name": "stdout",
          "text": [
            "--> berhasil menyimpan\n",
            "membuat dokumen\n",
            "inisialisasi documentlaporan.teks.\n",
            "-->Tipe : dokumen teks\n",
            "inisialisasi documentdata_penjualan.xlrs.\n",
            "-->tipe: spreadsheet\n",
            "inisialisasi documentcatatan_rapat.txt.\n",
            "-->Tipe : dokumen teks\n",
            "\n",
            "==========MEMPROSES SEMUA DOKUMEN==========\n",
            "\n",
            "========MEMPROSES dokumenteks:laporan.teks - --\n",
            "mencetak dokumen teks 'laporan.teks'\n",
            "ini adalah laporan singkat\n",
            "===============\n",
            "menympan dokumen teks 'laporan.teks' ke disk\n",
            "\n",
            "========MEMPROSES spreadsheet:data_penjualan.xlrs - --\n",
            "mencetak spreadsheet 'data_penjualan.xlrs' baris x200, 15 kolom \n",
            "menyimpan spreadsheet 'data_penjualan.xlrs' ke format .xlsr...\n",
            "-->berhasil menyimpan\n",
            "\n",
            "========MEMPROSES dokumenteks:catatan_rapat.txt - --\n",
            "mencetak dokumen teks 'catatan_rapat.txt'\n",
            "poin penting:\n",
            "- Bahas budget\n",
            "- tentukan timeline\n",
            "===============\n",
            "menympan dokumen teks 'catatan_rapat.txt' ke disk\n",
            "\n",
            "=======SELESAI MEMPROSES DOKUMEN========\n"
          ]
        }
      ]
    },
    {
      "cell_type": "markdown",
      "source": [
        "praktikum 5"
      ],
      "metadata": {
        "id": "46f3DJ53RlZF"
      }
    },
    {
      "cell_type": "code",
      "source": [],
      "metadata": {
        "id": "pvCXfFrURnrM"
      },
      "execution_count": null,
      "outputs": []
    }
  ]
}