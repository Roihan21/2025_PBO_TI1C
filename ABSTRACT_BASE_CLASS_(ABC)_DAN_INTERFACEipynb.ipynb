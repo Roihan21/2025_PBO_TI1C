{
  "nbformat": 4,
  "nbformat_minor": 0,
  "metadata": {
    "colab": {
      "provenance": [],
      "authorship_tag": "ABX9TyNTabX0Ga+pZk2pfHQT0sAx",
      "include_colab_link": true
    },
    "kernelspec": {
      "name": "python3",
      "display_name": "Python 3"
    },
    "language_info": {
      "name": "python"
    }
  },
  "cells": [
    {
      "cell_type": "markdown",
      "metadata": {
        "id": "view-in-github",
        "colab_type": "text"
      },
      "source": [
        "<a href=\"https://colab.research.google.com/github/Roihan21/2025_PBO_TI1C/blob/main/ABSTRACT_BASE_CLASS_(ABC)_DAN_INTERFACEipynb.ipynb\" target=\"_parent\"><img src=\"https://colab.research.google.com/assets/colab-badge.svg\" alt=\"Open In Colab\"/></a>"
      ]
    },
    {
      "cell_type": "markdown",
      "source": [
        "Praktikum 1"
      ],
      "metadata": {
        "id": "_MUxLZYvzNKZ"
      }
    },
    {
      "cell_type": "code",
      "execution_count": 11,
      "metadata": {
        "colab": {
          "base_uri": "https://localhost:8080/"
        },
        "id": "dTzj35qpw5AQ",
        "outputId": "d41e2a50-cf35-44e8-ce4f-b1cd523fe26a"
      },
      "outputs": [
        {
          "output_type": "stream",
          "name": "stdout",
          "text": [
            "definisi kelas abstrak'kendaraanAbstrak' selesai\n",
            "\n",
            "contoh definisi kelas anak 'mobil' selesai.\n",
            "Inisialisasi dari kendaraanAbstrak dengan merek :BMW\n",
            "mesin mobil BMW dinyalakan\n",
            "merk kendaraan ini adalah:BMW\n",
            "mesin mobil BMW dimatikan\n"
          ]
        }
      ],
      "source": [
        "#import komponen yang di perlukan dari modul abc\n",
        "from abc import ABC, abstractmethod\n",
        "\n",
        "#1. definisikan kelas abstark\n",
        "#kelas ini mewarisi dari ABC untuk menandakan bahwa dia adalah\n",
        "#Abstrack base class\n",
        "\n",
        "class kendaraanAbstrak(ABC):\n",
        "  def __init__(self, merk):\n",
        "    self.merk = merk\n",
        "    print(f\"Inisialisasi dari kendaraanAbstrak dengan merek :{self.merk}\")\n",
        "\n",
        "#methode konkret (tidak abstrak). metode ini sudah di implementasi dan sudah di warisi langsung\n",
        "\n",
        "  def info_merk(self):\n",
        "    print(f\"merk kendaraan ini adalah:{self.merk}\")\n",
        "\n",
        "#2. definisi metode abstrak\n",
        "#dekorator @abstrakmethod menandakan bahwa ini wajib\n",
        "#di implementasikan (override) oleh subclass konkret\n",
        "  def start_mesin(self):\n",
        "#kode di dalam methode ini adalah implementasinya\n",
        "\n",
        "    print(f\"Mesin mobil{self.merk} menyala\")\n",
        "\n",
        "#kelas mobil ini akan menjadi abstrak\n",
        "  def stop_mesin(self):\n",
        "    print(f\"Mesin mobil{self.merk} dimatikan\")\n",
        "\n",
        "# kode utama (hanya definisi belum ada instasiasi kelas abstrak)\n",
        "\n",
        "if __name__==\"__main__\":\n",
        "    print(\"definisi kelas abstrak'kendaraanAbstrak' selesai\")\n",
        "#contoh definisi kelas anak(konkret)\n",
        "#kelas ini mewarisi dari kendaraan abstark\n",
        "class mobil(kendaraanAbstrak):\n",
        "#implementasi metode abstrak strat mesin\n",
        "  def start_mesin(self):\n",
        "      print(f\"mesin mobil {self.merk} dinyalakan\") #mengecek mobil dinyalakan\n",
        "\n",
        "#implementasi abstrak stop mesin\n",
        "#jika salah satu abstrak tidak di implementasikan\n",
        "  def stop_mesin(self):\n",
        "      print(f\"mesin mobil {self.merk} dimatikan\") #mencetak status dimatikan\n",
        "\n",
        "print(\"\\ncontoh definisi kelas anak 'mobil' selesai.\")\n",
        "\n",
        "#membuat objek dari kelas anak(konkret) diperbolehkan\n",
        "\n",
        "mobil_contoh = mobil(\"BMW\")\n",
        "\n",
        "#memanggil metode yang diberikan dari kelas anak\n",
        "mobil_contoh.start_mesin()\n",
        "\n",
        "\n",
        "#memanggil metodek konkret yang di ambil dari kelas abstrak\n",
        "mobil_contoh.info_merk()\n",
        "#memanggil metode lain yang di implementasikan di kelas anak\n",
        "mobil_contoh.stop_mesin()\n"
      ]
    },
    {
      "cell_type": "markdown",
      "source": [
        "Praktikum 2"
      ],
      "metadata": {
        "id": "flf5BOhG8oZD"
      }
    },
    {
      "cell_type": "code",
      "source": [
        "from abc import ABC, abstractmethod\n",
        "\n",
        "#definisi kelas abstrak\n",
        "class mediaAbstrak(ABC):\n",
        "  def __init__(self,judul):\n",
        "    self.judul = judul\n",
        "    print(f\"inisialisasi media Abstrak dengan judul : {self,judul}\")\n",
        "\n",
        "  @abstractmethod\n",
        "  def play(self):\n",
        "    pass\n",
        "\n",
        "  @abstractmethod\n",
        "  def stop(self):\n",
        "    pass\n",
        "\n",
        "  #kode utama\n",
        "if __name__==\"__main__\":\n",
        "    print(\"mencoba membuat objek dari kelas abstrak media abstrak...\")\n",
        "\n",
        "    #block try-except untuk menangkap error yang di harapkan\n",
        "    try:\n",
        "        #baris ini akan menyebabkan type error karena media abstrak\n",
        "        #memiliki metode abstrak (play and stop) yang belum diimplementasikan\n",
        "        media = mediaAbstrak(\"konten abstrak\")\n",
        "        #kode dibawah ini tidak akan di jalankan jika error terjadi\n",
        "        print(f\"objek seharusnya tidak dibuat(seharusnya tidak terjadi)\")\n",
        "        media.play()\n",
        "\n",
        "    except TypeError as e:\n",
        "        #menangkap dan menampilkan error TypeError\n",
        "        print(f\"\\nGagal membuat objek !\")\n",
        "        print(f\"error yang muncul (sesuai harapan): {e}\")\n",
        "        print(f\"\\nini membuktikan bahwa kelas abstrak tidak dapat di implementasi\")\n",
        "        print(f\"jika masih memiliki metode abstrak yang belum di implementasi\")"
      ],
      "metadata": {
        "colab": {
          "base_uri": "https://localhost:8080/"
        },
        "id": "3mvQEl-Y5o11",
        "outputId": "1f36cb03-0881-4dbe-e0b1-85e5ad69a60d"
      },
      "execution_count": 20,
      "outputs": [
        {
          "output_type": "stream",
          "name": "stdout",
          "text": [
            "mencoba membuat objek dari kelas abstrak media abstrak...\n",
            "\n",
            "Gagal membuat objek !\n",
            "error yang muncul (sesuai harapan): Can't instantiate abstract class mediaAbstrak with abstract methods play, stop\n",
            "\n",
            "ini membuktikan bahwa kelas abstrak tidak dapat di implementasi\n",
            "jika masih memiliki metode abstrak yang belum di implementasi\n"
          ]
        }
      ]
    },
    {
      "cell_type": "code",
      "source": [],
      "metadata": {
        "id": "8wR-Nthp_kn_"
      },
      "execution_count": null,
      "outputs": []
    }
  ]
}