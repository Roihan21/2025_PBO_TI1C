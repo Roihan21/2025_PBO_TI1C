{
  "nbformat": 4,
  "nbformat_minor": 0,
  "metadata": {
    "colab": {
      "provenance": [],
      "authorship_tag": "ABX9TyN4d/TjbMEEd/gNdql2xfdV",
      "include_colab_link": true
    },
    "kernelspec": {
      "name": "python3",
      "display_name": "Python 3"
    },
    "language_info": {
      "name": "python"
    }
  },
  "cells": [
    {
      "cell_type": "markdown",
      "metadata": {
        "id": "view-in-github",
        "colab_type": "text"
      },
      "source": [
        "<a href=\"https://colab.research.google.com/github/Roihan21/2025_PBO_TI1C/blob/main/JOBSHEET.ipynb\" target=\"_parent\"><img src=\"https://colab.research.google.com/assets/colab-badge.svg\" alt=\"Open In Colab\"/></a>"
      ]
    },
    {
      "cell_type": "markdown",
      "source": [
        "Praktikum1"
      ],
      "metadata": {
        "id": "U-Qfw7imWw-d"
      }
    },
    {
      "cell_type": "code",
      "execution_count": 5,
      "metadata": {
        "id": "BT9GNz4oJAbT",
        "outputId": "c82eac78-6bfe-41e2-f756-66c939c9201b",
        "colab": {
          "base_uri": "https://localhost:8080/"
        }
      },
      "outputs": [
        {
          "output_type": "stream",
          "name": "stdout",
          "text": [
            "angka_int = 10 -> <class 'int'>\n",
            "angka_float = 3.14 -> <class 'float'>\n",
            "angka_complex = (2+3j) -> <class 'complex'>\n",
            "noted\n",
            "integer (int) adalah bilangan bulat, misalnya 10, -5 \n",
            "float adalah bilangan desimal,  misalnya 3.14, -2.5\n",
            "complex adalah bilangan kompleks, misalnya 2 + 3j\n"
          ]
        }
      ],
      "source": [
        "# 1. Number (int, float, complex)\n",
        "# Integer (int)\n",
        "angka_int = 10\n",
        "print(\"angka_int =\", angka_int, \"->\", type(angka_int))\n",
        "\n",
        "# Float\n",
        "angka_float = 3.14\n",
        "print(\"angka_float =\", angka_float, \"->\", type(angka_float))\n",
        "\n",
        "# Complex\n",
        "angka_complex = 2 + 3j\n",
        "print(\"angka_complex =\", angka_complex, \"->\", type(angka_complex))\n",
        "\n",
        "print('noted')\n",
        "print('integer (int) adalah bilangan bulat, misalnya 10, -5 ')\n",
        "print('float adalah bilangan desimal,  misalnya 3.14, -2.5')\n",
        "print('complex adalah bilangan kompleks, misalnya 2 + 3j')"
      ]
    },
    {
      "cell_type": "code",
      "source": [
        "# 2. Boolean\n",
        "is_active = True\n",
        "print(\"is_active =\", is_active, \"->\", type(is_active))\n",
        "\n",
        "print('noted')\n",
        "print('True dan False itu adalah tipe data boolean (bool) dalam Python.')"
      ],
      "metadata": {
        "id": "xXL25p_MOeq4",
        "outputId": "9a18315e-2d7c-4039-dbb9-c46feef2cdb2",
        "colab": {
          "base_uri": "https://localhost:8080/"
        }
      },
      "execution_count": 8,
      "outputs": [
        {
          "output_type": "stream",
          "name": "stdout",
          "text": [
            "is_active = True -> <class 'bool'>\n",
            "noted\n",
            "True dan False itu adalah tipe data boolean (bool) dalam Python.\n"
          ]
        }
      ]
    },
    {
      "cell_type": "code",
      "source": [
        "# 3. String\n",
        "teks = \"Hello, Python!\"\n",
        "print(\"teks =\", teks, \"->\", type(teks))\n",
        "\n",
        "print('noted')\n",
        "print('String adalah tipe data yang digunakan untuk menyimpan teks/huruf/alfhabet.')\n"
      ],
      "metadata": {
        "id": "iVWxnaEYQX1N",
        "outputId": "64c0066e-53c0-46c9-dfd9-96e9813f9f1f",
        "colab": {
          "base_uri": "https://localhost:8080/"
        }
      },
      "execution_count": 9,
      "outputs": [
        {
          "output_type": "stream",
          "name": "stdout",
          "text": [
            "teks = Hello, Python! -> <class 'str'>\n",
            "noted\n",
            "String adalah tipe data yang digunakan untuk menyimpan teks/huruf/alfhabet.\n"
          ]
        }
      ]
    },
    {
      "cell_type": "code",
      "source": [
        "\n",
        "# 4. List\n",
        "daftar_angka = [1, 2, 3, 4, 5]\n",
        "print(\"daftar_angka =\", daftar_angka, \"->\", type(daftar_angka))\n",
        "\n",
        "\n"
      ],
      "metadata": {
        "id": "ki0uTJ1yRM_m",
        "outputId": "2556dc70-8d3a-42d1-a768-c84d73424b41",
        "colab": {
          "base_uri": "https://localhost:8080/"
        }
      },
      "execution_count": 14,
      "outputs": [
        {
          "output_type": "stream",
          "name": "stdout",
          "text": [
            "daftar_angka = [1, 2, 3, 4, 5] -> <class 'list'>\n",
            "koordinat = (10, 20) -> <class 'tuple'>\n"
          ]
        }
      ]
    },
    {
      "cell_type": "code",
      "source": [
        "# 5. Tuple\n",
        "# Tuple adalah tipe data terurut tetapi tidak dapat diubah (immutable)\n",
        "koordinat = (10, 20)\n",
        "print(\"koordinat =\", koordinat, \"->\", type(koordinat))\n",
        "print('noted')\n",
        "print('Tuple adalah tipe data dalam Python yang bersifat immutable (tidak bisa diubah)')\n",
        "print('Tuple sering digunakan untuk menyimpan data tetap, seperti koordinat atau warna.')"
      ],
      "metadata": {
        "id": "LrJSLwjUTGEb",
        "outputId": "d521b111-95e8-46aa-a485-d2febbb56384",
        "colab": {
          "base_uri": "https://localhost:8080/"
        }
      },
      "execution_count": 18,
      "outputs": [
        {
          "output_type": "stream",
          "name": "stdout",
          "text": [
            "koordinat = (10, 20) -> <class 'tuple'>\n",
            "noted\n",
            "Tuple adalah tipe data dalam Python yang bersifat immutable (tidak bisa diubah)\n",
            "Tuple sering digunakan untuk menyimpan data tetap, seperti koordinat atau warna.\n"
          ]
        }
      ]
    },
    {
      "cell_type": "code",
      "source": [
        "# 6. Dictionary\n",
        "# Dictionary menyimpan data dalam pasangan key-value\n",
        "data_mahasiswa = {\n",
        "     \"nama\": \"Andi\",\n",
        "     \"nim\": \"A11.2022.12345\",\n",
        "     \"jurusan\": \"Teknik Informatika\"\n",
        " }\n",
        "print(\"data_mahasiswa =\", data_mahasiswa, \"->\", type(data_mahasiswa)) #Fixed: Removed extra \"\" and corrected indentation"
      ],
      "metadata": {
        "id": "ZfkxvP1dTcCk",
        "outputId": "1a0c7ec5-7ea7-4f77-c1b4-7ee34133ad17",
        "colab": {
          "base_uri": "https://localhost:8080/"
        }
      },
      "execution_count": 23,
      "outputs": [
        {
          "output_type": "stream",
          "name": "stdout",
          "text": [
            "data_mahasiswa = {'nama': 'Andi', 'nim': 'A11.2022.12345', 'jurusan': 'Teknik Informatika'} -> <class 'dict'>\n"
          ]
        }
      ]
    },
    {
      "cell_type": "code",
      "source": [
        "#7. Set\n",
        "# Set adalah tipe data yang tidak terurut, unik (tiap elemen hanya muncul 1x)\n",
        "himpunan_angka = {1, 2, 3, 2, 1}\n",
        "print(\"himpunan_angka =\", himpunan_angka, \"->\", type(himpunan_angka))\n",
        "\n",
        "print('noted')\n",
        "print('Set adalah tipe data dalam Python yang berisi kumpulan elemen unik dan tidak berurutan.')"
      ],
      "metadata": {
        "colab": {
          "base_uri": "https://localhost:8080/"
        },
        "id": "5uts52SAUnfw",
        "outputId": "6af0360f-2060-415d-dd84-1f8654bbc71f"
      },
      "execution_count": 28,
      "outputs": [
        {
          "output_type": "stream",
          "name": "stdout",
          "text": [
            "himpunan_angka = {1, 2, 3} -> <class 'set'>\n",
            "noted\n",
            "Set adalah tipe data dalam Python yang berisi kumpulan elemen unik dan tidak berurutan.\n"
          ]
        }
      ]
    },
    {
      "cell_type": "code",
      "source": [
        "#8. Contoh penggunaan konversi tipe data\n",
        "nilai_str = \"100\"\n",
        "print(\"\\nnilai_str =\", nilai_str, \"->\", type(nilai_str))\n",
        "nilai_int = int(nilai_str)  # konversi string ke integer\n",
        "print(\"nilai_int =\", nilai_int, \"->\", type(nilai_int))\n"
      ],
      "metadata": {
        "id": "ITfqoMQ0UoiD",
        "outputId": "dc175661-88a6-4767-a484-b252f0d779bf",
        "colab": {
          "base_uri": "https://localhost:8080/"
        }
      },
      "execution_count": 27,
      "outputs": [
        {
          "output_type": "stream",
          "name": "stdout",
          "text": [
            "\n",
            "nilai_str = 100 -> <class 'str'>\n",
            "nilai_int = 100 -> <class 'int'>\n"
          ]
        }
      ]
    },
    {
      "cell_type": "markdown",
      "source": [
        "Praktikum 2"
      ],
      "metadata": {
        "id": "QeM9B_9eW1Fo"
      }
    },
    {
      "cell_type": "code",
      "source": [
        "# -*- coding: utf-8 -*-\n",
        "\n",
        "# 1. Pendeklarasian Variabel\n",
        "nama = \"Budi\"\n",
        "umur = 20\n",
        "tinggi = 170.5\n",
        "is_student = True\n",
        "\n",
        "print(\"Nama =\", nama)\n",
        "print(\"Umur =\", umur)\n",
        "print(\"Tinggi =\", tinggi, \"cm\")\n",
        "print(\"Mahasiswa =\", is_student)\n",
        "\n",
        "# Python tidak memerlukan deklarasi tipe data secara eksplisit.\n",
        "# Tipe data variabel akan menyesuaikan nilai yang diberikan.\n",
        "\n",
        "# 2. Operasi Aritmetika\n",
        "a = 10\n",
        "b = 3\n",
        "\n",
        "penjumlahan = a + b      # Tambah\n",
        "pengurangan = a - b      # Kurang\n",
        "perkalian = a * b        # Kali\n",
        "pembagian = a / b        # Bagi (hasil float)\n",
        "pembagian_bulat = a // b # Bagi (bulat)\n",
        "modulus = a % b          # Sisa bagi\n",
        "pangkat = a ** b         # Pemangkatan\n",
        "\n",
        "print(\"\\nOPERASI ARITMETIKA\")\n",
        "print(\"a =\", a, \", b =\", b)\n",
        "print(\"Penjumlahan =\", penjumlahan)\n",
        "print(\"Pengurangan =\", pengurangan)\n",
        "print(\"Perkalian =\", perkalian)\n",
        "print(\"Pembagian =\", pembagian)\n",
        "print(\"Pembagian Bulat =\", pembagian_bulat)\n",
        "print(\"Modulus =\", modulus)\n",
        "print(\"Pangkat =\", pangkat)\n",
        "\n",
        "# 3. Operasi Perbandingan\n",
        "# Menghasilkan nilai Boolean (True/False)\n",
        "lebih_besar = a > b\n",
        "kurang_dari = a < b\n",
        "sama_dengan = a == b\n",
        "tidak_sama = a != b\n",
        "lebih_besar_sama = a >= b\n",
        "kurang_sama = a <= b\n",
        "\n",
        "print(\"\\nOPERASI PERBANDINGAN\")\n",
        "print(\"a > b =\", lebih_besar)\n",
        "print(\"a < b =\", kurang_dari)\n",
        "print(\"a == b =\", sama_dengan)\n",
        "print(\"a != b =\", tidak_sama)\n",
        "print(\"a >= b =\", lebih_besar_sama)\n",
        "print(\"a <= b =\", kurang_sama)\n",
        "\n",
        "# 4. Operasi Logika\n",
        "# and, or, not\n",
        "\n",
        "x = True\n",
        "y = False\n",
        "\n",
        "logika_and = x and y\n",
        "logika_or = x or y\n",
        "logika_not_x = not x\n",
        "\n",
        "print(\"\\nOPERASI LOGIKA\")\n",
        "print(\"x =\", x, \", y =\", y)\n",
        "print(\"x and y =\", logika_and)\n",
        "print(\"x or y =\", logika_or)\n",
        "print(\"not x =\", logika_not_x)\n",
        "\n",
        "# 5. Contoh penggunaan di dalam percabangan\n",
        "if a > b and b > 0:\n",
        "    print(\"\\nKondisi terpenuhi: a lebih besar dari b, dan b masih positif.\")\n",
        "else:\n",
        "    print(\"\\nKondisi tidak terpenuhi atau b <= 0.\")\n"
      ],
      "metadata": {
        "id": "BgNRtNxnW_7f",
        "outputId": "040def12-b54a-4e42-b689-f9c14d1276fb",
        "colab": {
          "base_uri": "https://localhost:8080/"
        }
      },
      "execution_count": 29,
      "outputs": [
        {
          "output_type": "stream",
          "name": "stdout",
          "text": [
            "Nama = Budi\n",
            "Umur = 20\n",
            "Tinggi = 170.5 cm\n",
            "Mahasiswa = True\n",
            "\n",
            "OPERASI ARITMETIKA\n",
            "a = 10 , b = 3\n",
            "Penjumlahan = 13\n",
            "Pengurangan = 7\n",
            "Perkalian = 30\n",
            "Pembagian = 3.3333333333333335\n",
            "Pembagian Bulat = 3\n",
            "Modulus = 1\n",
            "Pangkat = 1000\n",
            "\n",
            "OPERASI PERBANDINGAN\n",
            "a > b = True\n",
            "a < b = False\n",
            "a == b = False\n",
            "a != b = True\n",
            "a >= b = True\n",
            "a <= b = False\n",
            "\n",
            "OPERASI LOGIKA\n",
            "x = True , y = False\n",
            "x and y = False\n",
            "x or y = True\n",
            "not x = False\n",
            "\n",
            "Kondisi terpenuhi: a lebih besar dari b, dan b masih positif.\n"
          ]
        }
      ]
    },
    {
      "cell_type": "markdown",
      "source": [
        "Praktikum 3"
      ],
      "metadata": {
        "id": "E33rfAQpZeMi"
      }
    },
    {
      "cell_type": "code",
      "source": [
        "# -*- coding: utf-8 -*-\n",
        "\n",
        "# 1. IF Sederhana\n",
        "# Program hanya mengeksekusi blok jika kondisinya True\n",
        "\n",
        "nilai = 85\n",
        "print(\"Contoh IF Sederhana:\")\n",
        "if nilai > 80:\n",
        "    print(\"Selamat! Anda lulus dengan nilai tinggi.\\n\")\n",
        "\n",
        "# 2. IF-ELSE\n",
        "# Jika kondisi True, eksekusi blok if; jika False, eksekusi blok else\n",
        "\n",
        "umur = 17\n",
        "print(\"Contoh IF-ELSE:\")\n",
        "if umur >= 18:\n",
        "    print(\"Anda sudah cukup umur untuk mendapatkan SIM.\")\n",
        "else:\n",
        "    print(\"Anda belum cukup umur untuk mendapatkan SIM.\\n\")\n",
        "\n",
        "\n",
        "print('IF digunakan untuk mengeksekusi kode hanya jika kondisi True.')\n",
        "print('IF-ELSE digunakan untuk memilih antara dua kemungkinan hasil berdasarkan kondisi yang diberikan.')"
      ],
      "metadata": {
        "id": "7kdUc2gzaA6T",
        "outputId": "5dae7813-c47a-42de-dd5a-5438e5d387a0",
        "colab": {
          "base_uri": "https://localhost:8080/"
        }
      },
      "execution_count": 2,
      "outputs": [
        {
          "output_type": "stream",
          "name": "stdout",
          "text": [
            "Contoh IF Sederhana:\n",
            "Selamat! Anda lulus dengan nilai tinggi.\n",
            "\n",
            "Contoh IF-ELSE:\n",
            "Anda belum cukup umur untuk mendapatkan SIM.\n",
            "\n",
            "IF digunakan untuk mengeksekusi kode hanya jika kondisi True.\n",
            "IF-ELSE digunakan untuk memilih antara dua kemungkinan hasil berdasarkan kondisi yang diberikan.\n"
          ]
        }
      ]
    },
    {
      "cell_type": "code",
      "source": [
        "# -*- coding: utf-8 -*-\n",
        "\n",
        "# 3. IF-ELIF-ELSE\n",
        "# Menangani banyak kondisi secara berurutan.\n",
        "# Jika ada kondisi yang terpenuhi, blok yang bersangkutan dieksekusi.\n",
        "\n",
        "hari = \"Rabu\"\n",
        "print(\"Contoh IF-ELIF-ELSE:\")\n",
        "if hari == \"Senin\":\n",
        "    print(\"Hari Senin - Saatnya kembali bekerja!\")\n",
        "elif hari == \"Selasa\":\n",
        "    print(\"Hari Selasa - Jadwal rapat mingguan.\")\n",
        "elif hari == \"Rabu\":\n",
        "    print(\"Hari Rabu - Ada diskon di beberapa toko.\")\n",
        "else:\n",
        "    print(\"Hari lainnya - Atur jadwalmu dengan baik.\\n\")\n",
        "\n",
        "# 4. IF Bersarang (Nested IF)\n",
        "# Kondisi di dalam kondisi, digunakan untuk memeriksa sub-kondisi setelah kondisi utama terpenuhi.\n",
        "\n",
        "suhu = 35\n",
        "print(\"Contoh IF Bersarang (Nested IF):\")\n",
        "if suhu > 30:\n",
        "    print(\"Cuaca cukup panas.\")\n",
        "    if suhu > 40:\n",
        "        print(\"Bahkan sangat terik! Disarankan banyak minum air.\")\n",
        "    else:\n",
        "        print(\"Masih bisa ditoleransi, tetap jaga kesehatan.\\n\")\n",
        "    else:\n",
        "        print(\"Cuaca cukup hangat.\\n\")\n",
        "\n",
        "print('noted')\n",
        "print('IF-ELIF-ELSE digunakan untuk memilih satu kondisi dari beberapa kemungkinan')\n",
        "print('Nested IF digunakan untuk mengecek kondisi dalam kondisi. Percabangan membantu pengambilan keputusan dalam program')"
      ],
      "metadata": {
        "id": "LYDOTILAavNM",
        "outputId": "50367a06-25b9-4a72-a529-06f5126855d9",
        "colab": {
          "base_uri": "https://localhost:8080/"
        }
      },
      "execution_count": 4,
      "outputs": [
        {
          "output_type": "stream",
          "name": "stdout",
          "text": [
            "Contoh IF-ELIF-ELSE:\n",
            "Hari Rabu - Ada diskon di beberapa toko.\n",
            "Contoh IF Bersarang (Nested IF):\n",
            "Cuaca cukup panas.\n",
            "Masih bisa ditoleransi, tetap jaga kesehatan.\n",
            "\n",
            "noted\n",
            "IF-ELIF-ELSE digunakan untuk memilih satu kondisi dari beberapa kemungkinan\n",
            "Nested IF digunakan untuk mengecek kondisi dalam kondisi. Percabangan membantu pengambilan keputusan dalam program\n"
          ]
        }
      ]
    },
    {
      "cell_type": "code",
      "source": [
        "# 5. Menggabungkan Percabangan dengan Operasi Logika 57: # Memeriksa beberapa kondisi sekaligus dengan and, or, not 58:\n",
        "nilai_teori = 75\n",
        "nilai_praktik = 80\n",
        "print(\"Contoh IF dengan Operasi Logika AND/OR:\")\n",
        "if nilai_teori >= 70 and nilai_praktik >= 70:\n",
        "   print(\"Anda lulus karena nilai teori dan praktik memadai.\")\n",
        "elif nilai_teori < 70 and nilai_praktik < 70:\n",
        "    print(\"Anda perlu meningkatkan nilai teori dan praktik.\")\n",
        "elif nilai_teori < 70:\n",
        "     print(\"Anda perlu meningkatkan nilai teori.\")\n",
        "else:\n",
        "     print(\"Anda perlu meningkatkan nilai praktik.\\n\")\n",
        " # 6. Penggunaan If Ternary (atau Conditional Expression)\n",
        " # Bentuk ringkas: <hasil_if_true> if <kondisi> else <hasil_if_false>\n",
        "angka = -5\n",
        "print(\"Contoh If Ternary (Conditional Expression):\")\n",
        "status = \"Positif\" if angka > 0 else \"Negatif atau Nol\"\n",
        "print(\"Angka =\", angka, \"=>\", status)\n",
        "\n",
        "print('note:')\n",
        "print('Operasi logika (AND, OR, NOT) digunakan dalam percabangan untuk mengevaluasi beberapa kondisi sekaligus.')\n",
        "print('IF Ternary adalah cara singkat untuk menulis percabangan dalam satu baris dengan format: hasil_true if kondisi else hasil_false')"
      ],
      "metadata": {
        "id": "Q4Xk7u6Rb1FH",
        "outputId": "40483636-d623-47cc-a91d-8154cf751be8",
        "colab": {
          "base_uri": "https://localhost:8080/"
        }
      },
      "execution_count": 10,
      "outputs": [
        {
          "output_type": "stream",
          "name": "stdout",
          "text": [
            "Contoh IF dengan Operasi Logika AND/OR:\n",
            "Anda lulus karena nilai teori dan praktik memadai.\n",
            "Contoh If Ternary (Conditional Expression):\n",
            "Angka = -5 => Negatif atau Nol\n",
            "note:\n",
            "Operasi logika (AND, OR, NOT) digunakan dalam percabangan untuk mengevaluasi beberapa kondisi sekaligus.\n",
            "IF Ternary adalah cara singkat untuk menulis percabangan dalam satu baris dengan format: hasil_true if kondisi else hasil_false\n"
          ]
        }
      ]
    },
    {
      "cell_type": "code",
      "source": [],
      "metadata": {
        "id": "Iha-y5YbdfUi"
      },
      "execution_count": null,
      "outputs": []
    }
  ]
}