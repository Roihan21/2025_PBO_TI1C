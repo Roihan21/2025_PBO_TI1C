{
  "nbformat": 4,
  "nbformat_minor": 0,
  "metadata": {
    "colab": {
      "provenance": [],
      "authorship_tag": "ABX9TyPsk088zcWBS4hTFRiSHgwY",
      "include_colab_link": true
    },
    "kernelspec": {
      "name": "python3",
      "display_name": "Python 3"
    },
    "language_info": {
      "name": "python"
    }
  },
  "cells": [
    {
      "cell_type": "markdown",
      "metadata": {
        "id": "view-in-github",
        "colab_type": "text"
      },
      "source": [
        "<a href=\"https://colab.research.google.com/github/Roihan21/2025_PBO_TI1C/blob/main/PROGRAM%20DETEKSI%20GANJIL%20GENAP.ipynb\" target=\"_parent\"><img src=\"https://colab.research.google.com/assets/colab-badge.svg\" alt=\"Open In Colab\"/></a>"
      ]
    },
    {
      "cell_type": "code",
      "execution_count": 1,
      "metadata": {
        "colab": {
          "base_uri": "https://localhost:8080/"
        },
        "id": "wBvN1dWM0I95",
        "outputId": "a5f8bc65-3b28-4cad-ad97-d179ce0ffc67"
      },
      "outputs": [
        {
          "output_type": "stream",
          "name": "stdout",
          "text": [
            "===== Program Bilangan =====\n",
            "Masukkan bilangan bulat yang ingin diperiksa: 1\n",
            "\n",
            "Angka 1 adalah bilangan Ganjil.\n",
            "Angka 1 BUKAN bilangan Prima.\n",
            "Apakah Anda ingin keluar? (Y/N): n\n",
            "===== Program Bilangan =====\n",
            "Masukkan bilangan bulat yang ingin diperiksa: 2\n",
            "\n",
            "Angka 2 adalah bilangan Genap.\n",
            "Angka 2 adalah bilangan Prima.\n",
            "Apakah Anda ingin keluar? (Y/N): n\n",
            "===== Program Bilangan =====\n",
            "Masukkan bilangan bulat yang ingin diperiksa: 3\n",
            "\n",
            "Angka 3 adalah bilangan Ganjil.\n",
            "Angka 3 adalah bilangan Prima.\n",
            "Apakah Anda ingin keluar? (Y/N): n\n",
            "===== Program Bilangan =====\n",
            "Masukkan bilangan bulat yang ingin diperiksa: 4\n",
            "\n",
            "Angka 4 adalah bilangan Genap.\n",
            "Angka 4 BUKAN bilangan Prima.\n",
            "Apakah Anda ingin keluar? (Y/N): n\n",
            "===== Program Bilangan =====\n",
            "Masukkan bilangan bulat yang ingin diperiksa: 5\n",
            "\n",
            "Angka 5 adalah bilangan Ganjil.\n",
            "Angka 5 adalah bilangan Prima.\n",
            "Apakah Anda ingin keluar? (Y/N): y\n",
            "===== Terima Kasih =====\n"
          ]
        }
      ],
      "source": [
        "import os\n",
        "\n",
        "def is_prime(angka):\n",
        "    \"\"\"Fungsi untuk mengecek apakah angka adalah bilangan prima.\"\"\"\n",
        "    if angka <= 1:\n",
        "        return False\n",
        "    for i in range(2, int(angka**0.5) + 1):  # Cek dari 2 sampai akar kuadrat angka\n",
        "        if angka % i == 0:\n",
        "            return False\n",
        "    return True\n",
        "\n",
        "while True:\n",
        "    os.system(\"cls\")  # Membersihkan layar (untuk Windows)\n",
        "    print(\"===== Program Bilangan =====\")\n",
        "\n",
        "    # Input bilangan dengan validasi\n",
        "    while True:\n",
        "        try:\n",
        "            angka = int(input(\"Masukkan bilangan bulat yang ingin diperiksa: \"))\n",
        "            break\n",
        "        except ValueError:\n",
        "            print(\"Input tidak valid! Silakan masukkan bilangan bulat.\")\n",
        "\n",
        "    # Menentukan apakah angka ganjil atau genap\n",
        "    jenis_bilangan = \"Genap\" if angka % 2 == 0 else \"Ganjil\"\n",
        "    print(f\"\\nAngka {angka} adalah bilangan {jenis_bilangan}.\")\n",
        "\n",
        "    # Menentukan apakah angka bilangan prima atau bukan\n",
        "    if is_prime(angka):\n",
        "        print(f\"Angka {angka} adalah bilangan Prima.\")\n",
        "    else:\n",
        "        print(f\"Angka {angka} BUKAN bilangan Prima.\")\n",
        "\n",
        "    # Opsi keluar dari program\n",
        "    keluar = input(\"Apakah Anda ingin keluar? (Y/N): \").strip().lower()\n",
        "    if keluar == \"y\":\n",
        "        break\n",
        "\n",
        "print(\"===== Terima Kasih =====\")\n"
      ]
    }
  ]
}